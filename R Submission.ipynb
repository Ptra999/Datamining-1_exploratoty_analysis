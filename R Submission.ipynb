{
 "cells": [
  {
   "cell_type": "markdown",
   "id": "57b1b98b",
   "metadata": {},
   "source": [
    "# PA 1: Exploratory Analysis over Dataset_R"
   ]
  },
  {
   "cell_type": "markdown",
   "id": "dc0fa2bc",
   "metadata": {},
   "source": [
    "## Student Details\n",
    "\n",
    "Student Name and ID: \n",
    "\n",
    "Notes:\n",
    "When submitting, fill your name and ID in this cell. Note that this is a markdown cell!\n",
    "Do not make any changes in the dataset file and do not rename the 'dataset_python.csv'.\n",
    "Rename your submission file to <b> 'yourLastName_Last4digitsofyourID_PA1.ipynb' </b>.\n",
    "Do not to forget to cite any external sources used by you.\n",
    "<b>[2.5 points]</b>"
   ]
  },
  {
   "cell_type": "markdown",
   "id": "186c50f0",
   "metadata": {},
   "source": [
    " ## Assignment Details\n",
    "\n",
    "In this assignment, you will explore, manipulate and play with the data.\n",
    "\n",
    "You will prepare a report with the following outline for each one of the dataset. Look at the following Example.\n",
    "\n",
    "1.\tIntroduction\n",
    "\n",
    "2.\tRetrieving the Data\n",
    "\n",
    "3.\tGlimpse of Data\n",
    "\n",
    "4.\tCheck for missing data\n",
    "\n",
    "5.\tData Exploration\n",
    "\n",
    "6.  Include a paragraph describing the contribution made by each team member\n",
    "\n",
    "\n",
    "You will learn and use some of the most common exploration/aggregation/descriptive operations. This should also help you learn most of the key functionalities in Python, Weka and R. DO Task 1, Task 2, Task 3, Task 4 using Python, Weka, R.\n",
    " \n",
    "**Out of the 3 datasets listed below:**\n",
    "\n",
    "**1. Dataset_python should be solved using Python in Jupyter notebook only.**\n",
    "\n",
    "**2. Dataset_Weka using WEKA**\n",
    "\n",
    "**3. Dataset_R using R**\n",
    "\n",
    "\n",
    "You will also learn how to use visualization libraries to identify patterns in data that will help in your further data analysis. You will also explore most popular chart types and how to use different libraries and styles to make your visualizations more attractive."
   ]
  },
  {
   "cell_type": "markdown",
   "id": "7a239162",
   "metadata": {},
   "source": [
    "# Dataset Details\n",
    "\n",
    "In this assignment, you will work on dataset_R. The columns of the data-set are:\n",
    "\n",
    "- Loan Status - Loan approved (Y/N)\n",
    "- Loan_ID - Unique Loan ID\n",
    "- Gender - Male/ Female\n",
    "- Married - Applicant married (Y/N)\n",
    "- Dependents - Number of dependents\n",
    "- Education Applicant - Education (Graduate/ Under Graduate)\n",
    "- Self_Employed Self - employed (Y/N)\n",
    "- ApplicantIncome - Applicant income\n",
    "- CoapplicantIncome - Coapplicant income\n",
    "- LoanAmount - Loan amount in thousands\n",
    "- Loan_Amount_Term - Term of loan in months\n",
    "- Credit_History - credit history meets guidelines\n",
    "- Property_Area - Urban/ Semi Urban/ Rural)"
   ]
  },
  {
   "cell_type": "code",
   "execution_count": 2,
   "id": "61df63bf",
   "metadata": {},
   "outputs": [
    {
     "name": "stderr",
     "output_type": "stream",
     "text": [
      "\n",
      "Attaching package: 'dplyr'\n",
      "\n",
      "The following objects are masked from 'package:stats':\n",
      "\n",
      "    filter, lag\n",
      "\n",
      "The following objects are masked from 'package:base':\n",
      "\n",
      "    intersect, setdiff, setequal, union\n",
      "\n",
      "Registered S3 methods overwritten by 'ggplot2':\n",
      "  method         from \n",
      "  [.quosures     rlang\n",
      "  c.quosures     rlang\n",
      "  print.quosures rlang\n"
     ]
    }
   ],
   "source": [
    "# Import R packages \n",
    "library('dplyr')\n",
    "library('ggplot2')"
   ]
  },
  {
   "cell_type": "code",
   "execution_count": 84,
   "id": "47ee6142",
   "metadata": {},
   "outputs": [],
   "source": [
    "# Read the file\n",
    "loan_df <- read.csv('C:\\\\Users\\\\Administrator\\\\Desktop\\\\Assignment1UPDATED\\\\dataset_R.csv')"
   ]
  },
  {
   "cell_type": "code",
   "execution_count": 85,
   "id": "b21115a1",
   "metadata": {},
   "outputs": [
    {
     "data": {
      "text/html": [
       "<table>\n",
       "<thead><tr><th scope=col>Loan_ID</th><th scope=col>Gender</th><th scope=col>Married</th><th scope=col>Dependents</th><th scope=col>Education</th><th scope=col>Self_Employed</th><th scope=col>ApplicantIncome</th><th scope=col>CoapplicantIncome</th><th scope=col>LoanAmount</th><th scope=col>Loan_Amount_Term</th><th scope=col>Credit_History</th><th scope=col>Property_Area</th><th scope=col>Loan_Status</th></tr></thead>\n",
       "<tbody>\n",
       "\t<tr><td>LP001002    </td><td>Male        </td><td>No          </td><td>0           </td><td>Graduate    </td><td>No          </td><td>5849        </td><td>   0        </td><td> NA         </td><td>360         </td><td>1           </td><td>Urban       </td><td>Y           </td></tr>\n",
       "\t<tr><td>LP001003    </td><td>Male        </td><td>Yes         </td><td>1           </td><td>Graduate    </td><td>No          </td><td>4583        </td><td>1508        </td><td>128         </td><td>360         </td><td>1           </td><td>Rural       </td><td>N           </td></tr>\n",
       "\t<tr><td>LP001005    </td><td>Male        </td><td>Yes         </td><td>0           </td><td>Graduate    </td><td>Yes         </td><td>3000        </td><td>   0        </td><td> 66         </td><td>360         </td><td>1           </td><td>Urban       </td><td>Y           </td></tr>\n",
       "\t<tr><td>LP001006    </td><td>Male        </td><td>Yes         </td><td>0           </td><td>Not Graduate</td><td>No          </td><td>2583        </td><td>2358        </td><td>120         </td><td>360         </td><td>1           </td><td>Urban       </td><td>Y           </td></tr>\n",
       "\t<tr><td>LP001008    </td><td>Male        </td><td>No          </td><td>0           </td><td>Graduate    </td><td>No          </td><td>6000        </td><td>   0        </td><td>141         </td><td>360         </td><td>1           </td><td>Urban       </td><td>Y           </td></tr>\n",
       "</tbody>\n",
       "</table>\n"
      ],
      "text/latex": [
       "\\begin{tabular}{r|lllllllllllll}\n",
       " Loan\\_ID & Gender & Married & Dependents & Education & Self\\_Employed & ApplicantIncome & CoapplicantIncome & LoanAmount & Loan\\_Amount\\_Term & Credit\\_History & Property\\_Area & Loan\\_Status\\\\\n",
       "\\hline\n",
       "\t LP001002     & Male         & No           & 0            & Graduate     & No           & 5849         &    0         &  NA          & 360          & 1            & Urban        & Y           \\\\\n",
       "\t LP001003     & Male         & Yes          & 1            & Graduate     & No           & 4583         & 1508         & 128          & 360          & 1            & Rural        & N           \\\\\n",
       "\t LP001005     & Male         & Yes          & 0            & Graduate     & Yes          & 3000         &    0         &  66          & 360          & 1            & Urban        & Y           \\\\\n",
       "\t LP001006     & Male         & Yes          & 0            & Not Graduate & No           & 2583         & 2358         & 120          & 360          & 1            & Urban        & Y           \\\\\n",
       "\t LP001008     & Male         & No           & 0            & Graduate     & No           & 6000         &    0         & 141          & 360          & 1            & Urban        & Y           \\\\\n",
       "\\end{tabular}\n"
      ],
      "text/markdown": [
       "\n",
       "| Loan_ID | Gender | Married | Dependents | Education | Self_Employed | ApplicantIncome | CoapplicantIncome | LoanAmount | Loan_Amount_Term | Credit_History | Property_Area | Loan_Status |\n",
       "|---|---|---|---|---|---|---|---|---|---|---|---|---|\n",
       "| LP001002     | Male         | No           | 0            | Graduate     | No           | 5849         |    0         |  NA          | 360          | 1            | Urban        | Y            |\n",
       "| LP001003     | Male         | Yes          | 1            | Graduate     | No           | 4583         | 1508         | 128          | 360          | 1            | Rural        | N            |\n",
       "| LP001005     | Male         | Yes          | 0            | Graduate     | Yes          | 3000         |    0         |  66          | 360          | 1            | Urban        | Y            |\n",
       "| LP001006     | Male         | Yes          | 0            | Not Graduate | No           | 2583         | 2358         | 120          | 360          | 1            | Urban        | Y            |\n",
       "| LP001008     | Male         | No           | 0            | Graduate     | No           | 6000         |    0         | 141          | 360          | 1            | Urban        | Y            |\n",
       "\n"
      ],
      "text/plain": [
       "  Loan_ID  Gender Married Dependents Education    Self_Employed ApplicantIncome\n",
       "1 LP001002 Male   No      0          Graduate     No            5849           \n",
       "2 LP001003 Male   Yes     1          Graduate     No            4583           \n",
       "3 LP001005 Male   Yes     0          Graduate     Yes           3000           \n",
       "4 LP001006 Male   Yes     0          Not Graduate No            2583           \n",
       "5 LP001008 Male   No      0          Graduate     No            6000           \n",
       "  CoapplicantIncome LoanAmount Loan_Amount_Term Credit_History Property_Area\n",
       "1    0               NA        360              1              Urban        \n",
       "2 1508              128        360              1              Rural        \n",
       "3    0               66        360              1              Urban        \n",
       "4 2358              120        360              1              Urban        \n",
       "5    0              141        360              1              Urban        \n",
       "  Loan_Status\n",
       "1 Y          \n",
       "2 N          \n",
       "3 Y          \n",
       "4 Y          \n",
       "5 Y          "
      ]
     },
     "metadata": {},
     "output_type": "display_data"
    }
   ],
   "source": [
    "# return the first 5 rows of the dataset\n",
    "head(loan_df,5)"
   ]
  },
  {
   "cell_type": "markdown",
   "id": "f7923d25",
   "metadata": {},
   "source": [
    "# Task 1: Statistical Exploratory Data Analysis(17.5 points)"
   ]
  },
  {
   "cell_type": "code",
   "execution_count": 86,
   "id": "35780b26",
   "metadata": {},
   "outputs": [
    {
     "data": {
      "text/plain": [
       "     Loan_ID       Gender    Married   Dependents        Education  \n",
       " LP001002:  1         : 13      :  3     : 15     Graduate    :480  \n",
       " LP001003:  1   Female:112   No :213   0 :345     Not Graduate:134  \n",
       " LP001005:  1   Male  :489   Yes:398   1 :102                       \n",
       " LP001006:  1                          2 :101                       \n",
       " LP001008:  1                          3+: 51                       \n",
       " LP001011:  1                                                       \n",
       " (Other) :608                                                       \n",
       " Self_Employed ApplicantIncome CoapplicantIncome   LoanAmount   \n",
       "    : 32       Min.   :  150   Min.   :    0     Min.   :  9.0  \n",
       " No :500       1st Qu.: 2878   1st Qu.:    0     1st Qu.:100.0  \n",
       " Yes: 82       Median : 3812   Median : 1188     Median :128.0  \n",
       "               Mean   : 5403   Mean   : 1621     Mean   :146.4  \n",
       "               3rd Qu.: 5795   3rd Qu.: 2297     3rd Qu.:168.0  \n",
       "               Max.   :81000   Max.   :41667     Max.   :700.0  \n",
       "                                                 NA's   :22     \n",
       " Loan_Amount_Term Credit_History     Property_Area Loan_Status\n",
       " Min.   : 12      Min.   :0.0000   Rural    :179   N:192      \n",
       " 1st Qu.:360      1st Qu.:1.0000   Semiurban:233   Y:422      \n",
       " Median :360      Median :1.0000   Urban    :202              \n",
       " Mean   :342      Mean   :0.8422                              \n",
       " 3rd Qu.:360      3rd Qu.:1.0000                              \n",
       " Max.   :480      Max.   :1.0000                              \n",
       " NA's   :14       NA's   :50                                  "
      ]
     },
     "metadata": {},
     "output_type": "display_data"
    }
   ],
   "source": [
    "# 1-a If any, print the total number of null values for each column in the dataset. Explain how you handle the null values (Hint: Null values must be filled or dropped from the dataset accordingly. How you handle the null values is upto you)\n",
    "#sapply(loan_df,function(loan_df) sum(is.na(loan_df)))\n",
    "summary(loan_df)"
   ]
  },
  {
   "cell_type": "code",
   "execution_count": 87,
   "id": "78ab546f",
   "metadata": {},
   "outputs": [
    {
     "name": "stdout",
     "output_type": "stream",
     "text": [
      "'data.frame':\t614 obs. of  13 variables:\n",
      " $ Loan_ID          : Factor w/ 614 levels \"LP001002\",\"LP001003\",..: 1 2 3 4 5 6 7 8 9 10 ...\n",
      " $ Gender           : Factor w/ 3 levels \"\",\"Female\",\"Male\": 3 3 3 3 3 3 3 3 3 3 ...\n",
      " $ Married          : Factor w/ 3 levels \"\",\"No\",\"Yes\": 2 3 3 3 2 3 3 3 3 3 ...\n",
      " $ Dependents       : Factor w/ 5 levels \"\",\"0\",\"1\",\"2\",..: 2 3 2 2 2 4 2 5 4 3 ...\n",
      " $ Education        : Factor w/ 2 levels \"Graduate\",\"Not Graduate\": 1 1 1 2 1 1 2 1 1 1 ...\n",
      " $ Self_Employed    : Factor w/ 3 levels \"\",\"No\",\"Yes\": 2 2 3 2 2 3 2 2 2 2 ...\n",
      " $ ApplicantIncome  : int  5849 4583 3000 2583 6000 5417 2333 3036 4006 12841 ...\n",
      " $ CoapplicantIncome: num  0 1508 0 2358 0 ...\n",
      " $ LoanAmount       : int  NA 128 66 120 141 267 95 158 168 349 ...\n",
      " $ Loan_Amount_Term : int  360 360 360 360 360 360 360 360 360 360 ...\n",
      " $ Credit_History   : int  1 1 1 1 1 1 1 0 1 1 ...\n",
      " $ Property_Area    : Factor w/ 3 levels \"Rural\",\"Semiurban\",..: 3 1 3 3 3 3 3 2 3 2 ...\n",
      " $ Loan_Status      : Factor w/ 2 levels \"N\",\"Y\": 2 1 2 2 2 2 2 1 2 1 ...\n"
     ]
    }
   ],
   "source": [
    "# 1-b Print the details of dataframe\n",
    "str(loan_df)"
   ]
  },
  {
   "cell_type": "code",
   "execution_count": 88,
   "id": "cea2969f",
   "metadata": {},
   "outputs": [
    {
     "name": "stdout",
     "output_type": "stream",
     "text": [
      "[1] \"Total number of rows:614\"\n",
      "[1] \"Total number of columns:13\"\n"
     ]
    }
   ],
   "source": [
    "# 1-c Find the number of rows and columns in dataset\n",
    "print(paste0('Total number of rows:', nrow(loan_df)))\n",
    "print(paste0('Total number of columns:', ncol(loan_df)))"
   ]
  },
  {
   "cell_type": "code",
   "execution_count": 89,
   "id": "f95aa4d9",
   "metadata": {},
   "outputs": [
    {
     "data": {
      "text/plain": [
       "   Min. 1st Qu.  Median    Mean 3rd Qu.    Max. \n",
       "    150    2878    3812    5403    5795   81000 "
      ]
     },
     "metadata": {},
     "output_type": "display_data"
    }
   ],
   "source": [
    "# 1-d Print descriptive detail of a column in dataset\n",
    "summary(loan_df$ApplicantIncome)"
   ]
  },
  {
   "cell_type": "code",
   "execution_count": 99,
   "id": "2c1b0165",
   "metadata": {},
   "outputs": [],
   "source": [
    "# Data Pre-processing for R\n",
    "loan_df <- read.csv('C:\\\\Users\\\\Administrator\\\\Desktop\\\\Assignment1UPDATED\\\\dataset_R.csv',na.strings= c(\"\",\"NA\"))"
   ]
  },
  {
   "cell_type": "markdown",
   "id": "7e386d61",
   "metadata": {},
   "source": [
    "# Task 2: Aggregation & Filtering & Rank (30 points)"
   ]
  },
  {
   "cell_type": "code",
   "execution_count": 91,
   "id": "eb19feff",
   "metadata": {
    "scrolled": true
   },
   "outputs": [
    {
     "data": {
      "text/html": [
       "131"
      ],
      "text/latex": [
       "131"
      ],
      "text/markdown": [
       "131"
      ],
      "text/plain": [
       "[1] 131"
      ]
     },
     "metadata": {},
     "output_type": "display_data"
    }
   ],
   "source": [
    "# Task 2-a: Find out the number of graduates from rural area\n",
    "loan_df %>%\n",
    "filter( Education == 'Graduate' & Property_Area == 'Rural' ) %>%\n",
    "nrow()\n"
   ]
  },
  {
   "cell_type": "code",
   "execution_count": 92,
   "id": "4488bf58",
   "metadata": {
    "scrolled": true
   },
   "outputs": [
    {
     "data": {
      "text/html": [
       "113"
      ],
      "text/latex": [
       "113"
      ],
      "text/markdown": [
       "113"
      ],
      "text/plain": [
       "[1] 113"
      ]
     },
     "metadata": {},
     "output_type": "display_data"
    }
   ],
   "source": [
    "# Task 2-b: determine the overall number of men who did not graduate\n",
    "loan_df %>%\n",
    "filter( Education == 'Not Graduate' & Gender == 'Male' ) %>%\n",
    "nrow()"
   ]
  },
  {
   "cell_type": "code",
   "execution_count": 93,
   "id": "cb6ce750",
   "metadata": {
    "scrolled": true
   },
   "outputs": [
    {
     "data": {
      "text/html": [
       "<table>\n",
       "<thead><tr><th scope=col>Loan_ID</th><th scope=col>Gender</th><th scope=col>Married</th><th scope=col>Dependents</th><th scope=col>Education</th><th scope=col>Self_Employed</th><th scope=col>ApplicantIncome</th><th scope=col>CoapplicantIncome</th><th scope=col>LoanAmount</th><th scope=col>Loan_Amount_Term</th><th scope=col>Credit_History</th><th scope=col>Property_Area</th><th scope=col>Loan_Status</th></tr></thead>\n",
       "<tbody>\n",
       "\t<tr><td>LP002317 </td><td>Male     </td><td>Yes      </td><td>3+       </td><td>Graduate </td><td>No       </td><td>81000    </td><td>   0     </td><td>360      </td><td>360      </td><td> 0       </td><td>Rural    </td><td>N        </td></tr>\n",
       "\t<tr><td>LP002101 </td><td>Male     </td><td>Yes      </td><td>0        </td><td>Graduate </td><td>         </td><td>63337    </td><td>   0     </td><td>490      </td><td>180      </td><td> 1       </td><td>Urban    </td><td>Y        </td></tr>\n",
       "\t<tr><td>LP001536 </td><td>Male     </td><td>Yes      </td><td>3+       </td><td>Graduate </td><td>No       </td><td>39999    </td><td>   0     </td><td>600      </td><td>180      </td><td> 0       </td><td>Semiurban</td><td>Y        </td></tr>\n",
       "\t<tr><td>LP001640 </td><td>Male     </td><td>Yes      </td><td>0        </td><td>Graduate </td><td>Yes      </td><td>39147    </td><td>4750     </td><td>120      </td><td>360      </td><td> 1       </td><td>Semiurban</td><td>Y        </td></tr>\n",
       "\t<tr><td>LP002422 </td><td>Male     </td><td>No       </td><td>1        </td><td>Graduate </td><td>No       </td><td>37719    </td><td>   0     </td><td>152      </td><td>360      </td><td> 1       </td><td>Semiurban</td><td>Y        </td></tr>\n",
       "\t<tr><td>LP001637 </td><td>Male     </td><td>Yes      </td><td>1        </td><td>Graduate </td><td>No       </td><td>33846    </td><td>   0     </td><td>260      </td><td>360      </td><td> 1       </td><td>Semiurban</td><td>N        </td></tr>\n",
       "\t<tr><td>LP002624 </td><td>Male     </td><td>Yes      </td><td>0        </td><td>Graduate </td><td>No       </td><td>20833    </td><td>6667     </td><td>480      </td><td>360      </td><td>NA       </td><td>Urban    </td><td>Y        </td></tr>\n",
       "\t<tr><td>LP001922 </td><td>Male     </td><td>Yes      </td><td>0        </td><td>Graduate </td><td>No       </td><td>20667    </td><td>   0     </td><td> NA      </td><td>360      </td><td> 1       </td><td>Rural    </td><td>N        </td></tr>\n",
       "\t<tr><td>LP001996 </td><td>Male     </td><td>No       </td><td>0        </td><td>Graduate </td><td>No       </td><td>20233    </td><td>   0     </td><td>480      </td><td>360      </td><td> 1       </td><td>Rural    </td><td>N        </td></tr>\n",
       "\t<tr><td>LP001469 </td><td>Male     </td><td>No       </td><td>0        </td><td>Graduate </td><td>Yes      </td><td>20166    </td><td>   0     </td><td>650      </td><td>480      </td><td>NA       </td><td>Urban    </td><td>Y        </td></tr>\n",
       "</tbody>\n",
       "</table>\n"
      ],
      "text/latex": [
       "\\begin{tabular}{r|lllllllllllll}\n",
       " Loan\\_ID & Gender & Married & Dependents & Education & Self\\_Employed & ApplicantIncome & CoapplicantIncome & LoanAmount & Loan\\_Amount\\_Term & Credit\\_History & Property\\_Area & Loan\\_Status\\\\\n",
       "\\hline\n",
       "\t LP002317  & Male      & Yes       & 3+        & Graduate  & No        & 81000     &    0      & 360       & 360       &  0        & Rural     & N        \\\\\n",
       "\t LP002101  & Male      & Yes       & 0         & Graduate  &           & 63337     &    0      & 490       & 180       &  1        & Urban     & Y        \\\\\n",
       "\t LP001536  & Male      & Yes       & 3+        & Graduate  & No        & 39999     &    0      & 600       & 180       &  0        & Semiurban & Y        \\\\\n",
       "\t LP001640  & Male      & Yes       & 0         & Graduate  & Yes       & 39147     & 4750      & 120       & 360       &  1        & Semiurban & Y        \\\\\n",
       "\t LP002422  & Male      & No        & 1         & Graduate  & No        & 37719     &    0      & 152       & 360       &  1        & Semiurban & Y        \\\\\n",
       "\t LP001637  & Male      & Yes       & 1         & Graduate  & No        & 33846     &    0      & 260       & 360       &  1        & Semiurban & N        \\\\\n",
       "\t LP002624  & Male      & Yes       & 0         & Graduate  & No        & 20833     & 6667      & 480       & 360       & NA        & Urban     & Y        \\\\\n",
       "\t LP001922  & Male      & Yes       & 0         & Graduate  & No        & 20667     &    0      &  NA       & 360       &  1        & Rural     & N        \\\\\n",
       "\t LP001996  & Male      & No        & 0         & Graduate  & No        & 20233     &    0      & 480       & 360       &  1        & Rural     & N        \\\\\n",
       "\t LP001469  & Male      & No        & 0         & Graduate  & Yes       & 20166     &    0      & 650       & 480       & NA        & Urban     & Y        \\\\\n",
       "\\end{tabular}\n"
      ],
      "text/markdown": [
       "\n",
       "| Loan_ID | Gender | Married | Dependents | Education | Self_Employed | ApplicantIncome | CoapplicantIncome | LoanAmount | Loan_Amount_Term | Credit_History | Property_Area | Loan_Status |\n",
       "|---|---|---|---|---|---|---|---|---|---|---|---|---|\n",
       "| LP002317  | Male      | Yes       | 3+        | Graduate  | No        | 81000     |    0      | 360       | 360       |  0        | Rural     | N         |\n",
       "| LP002101  | Male      | Yes       | 0         | Graduate  |           | 63337     |    0      | 490       | 180       |  1        | Urban     | Y         |\n",
       "| LP001536  | Male      | Yes       | 3+        | Graduate  | No        | 39999     |    0      | 600       | 180       |  0        | Semiurban | Y         |\n",
       "| LP001640  | Male      | Yes       | 0         | Graduate  | Yes       | 39147     | 4750      | 120       | 360       |  1        | Semiurban | Y         |\n",
       "| LP002422  | Male      | No        | 1         | Graduate  | No        | 37719     |    0      | 152       | 360       |  1        | Semiurban | Y         |\n",
       "| LP001637  | Male      | Yes       | 1         | Graduate  | No        | 33846     |    0      | 260       | 360       |  1        | Semiurban | N         |\n",
       "| LP002624  | Male      | Yes       | 0         | Graduate  | No        | 20833     | 6667      | 480       | 360       | NA        | Urban     | Y         |\n",
       "| LP001922  | Male      | Yes       | 0         | Graduate  | No        | 20667     |    0      |  NA       | 360       |  1        | Rural     | N         |\n",
       "| LP001996  | Male      | No        | 0         | Graduate  | No        | 20233     |    0      | 480       | 360       |  1        | Rural     | N         |\n",
       "| LP001469  | Male      | No        | 0         | Graduate  | Yes       | 20166     |    0      | 650       | 480       | NA        | Urban     | Y         |\n",
       "\n"
      ],
      "text/plain": [
       "   Loan_ID  Gender Married Dependents Education Self_Employed ApplicantIncome\n",
       "1  LP002317 Male   Yes     3+         Graduate  No            81000          \n",
       "2  LP002101 Male   Yes     0          Graduate                63337          \n",
       "3  LP001536 Male   Yes     3+         Graduate  No            39999          \n",
       "4  LP001640 Male   Yes     0          Graduate  Yes           39147          \n",
       "5  LP002422 Male   No      1          Graduate  No            37719          \n",
       "6  LP001637 Male   Yes     1          Graduate  No            33846          \n",
       "7  LP002624 Male   Yes     0          Graduate  No            20833          \n",
       "8  LP001922 Male   Yes     0          Graduate  No            20667          \n",
       "9  LP001996 Male   No      0          Graduate  No            20233          \n",
       "10 LP001469 Male   No      0          Graduate  Yes           20166          \n",
       "   CoapplicantIncome LoanAmount Loan_Amount_Term Credit_History Property_Area\n",
       "1     0              360        360               0             Rural        \n",
       "2     0              490        180               1             Urban        \n",
       "3     0              600        180               0             Semiurban    \n",
       "4  4750              120        360               1             Semiurban    \n",
       "5     0              152        360               1             Semiurban    \n",
       "6     0              260        360               1             Semiurban    \n",
       "7  6667              480        360              NA             Urban        \n",
       "8     0               NA        360               1             Rural        \n",
       "9     0              480        360               1             Rural        \n",
       "10    0              650        480              NA             Urban        \n",
       "   Loan_Status\n",
       "1  N          \n",
       "2  Y          \n",
       "3  Y          \n",
       "4  Y          \n",
       "5  Y          \n",
       "6  N          \n",
       "7  Y          \n",
       "8  N          \n",
       "9  N          \n",
       "10 Y          "
      ]
     },
     "metadata": {},
     "output_type": "display_data"
    }
   ],
   "source": [
    "# Task 2-c: Find the top 10 men who graduated and had the highest applicant income\n",
    "loan_df %>%\n",
    " arrange(-ApplicantIncome) %>%\n",
    "filter( Education == 'Graduate' & Gender == 'Male' ) %>% \n",
    "#select(Loan_ID) %>%\n",
    " #loan_df(loan_df$Education == 'Graduate',) %>%\n",
    " head(10)"
   ]
  },
  {
   "cell_type": "code",
   "execution_count": 94,
   "id": "88d8e9ab",
   "metadata": {},
   "outputs": [
    {
     "data": {
      "text/html": [
       "19"
      ],
      "text/latex": [
       "19"
      ],
      "text/markdown": [
       "19"
      ],
      "text/plain": [
       "[1] 19"
      ]
     },
     "metadata": {},
     "output_type": "display_data"
    }
   ],
   "source": [
    "# Task 2-d: Find the number of self-employed male applicants from urban area \n",
    "loan_df %>%\n",
    "filter( Self_Employed == 'Yes' & Gender == 'Male' & Property_Area == 'Urban' ) %>%\n",
    "nrow()"
   ]
  },
  {
   "cell_type": "markdown",
   "id": "1bcd55ea",
   "metadata": {},
   "source": [
    "# Task 3: Visualization (30 points)"
   ]
  },
  {
   "cell_type": "code",
   "execution_count": 95,
   "id": "f084bde3",
   "metadata": {
    "scrolled": false
   },
   "outputs": [
    {
     "data": {
      "image/png": "[encoded data removed]",
      "text/plain": [
       "plot without title"
      ]
     },
     "metadata": {},
     "output_type": "display_data"
    }
   ],
   "source": [
    "# Task 3-a Make a plot where married applicants are granted loans\n",
    "dump <- subset(loan_df, Married == 'Yes')\n",
    "ggplot(dump,aes(x=Loan_Status)) + geom_bar()"
   ]
  },
  {
   "cell_type": "code",
   "execution_count": 98,
   "id": "7b66de38",
   "metadata": {},
   "outputs": [
    {
     "data": {
      "image/png": "[encoded data removed]",
      "text/plain": [
       "plot without title"
      ]
     },
     "metadata": {},
     "output_type": "display_data"
    }
   ],
   "source": [
    "# Task 3-b Create a pie chart for Property_area and display percentages in legend respectively\n",
    "loan_df %>%\n",
    "group_by(Property_Area) %>%\n",
    "tally() %>%\n",
    "ggplot(aes(x=\"\", y=n, fill=Property_Area)) + geom_bar(stat='identity',width=1)+coord_polar(\"y\", start=0 )  + scale_y_continuous(labels = scales::percent)"
   ]
  },
  {
   "cell_type": "markdown",
   "id": "1e8f4db0",
   "metadata": {},
   "source": [
    "# Task 4: Insights from the data (20 points)\n",
    "Find out 'interesting' information from the dataset. Give two insights and Create a visualization for each of the insights. Explain in a few lines your reasoning. \n",
    "\n",
    "Your work's uniqueness and quality will be taken into account when evaluating your work (having a meaningful result and an aesthetic visualization). "
   ]
  },
  {
   "cell_type": "code",
   "execution_count": 19,
   "id": "9fc2b9b5",
   "metadata": {},
   "outputs": [
    {
     "data": {
      "image/png": "[encoded data removed]",
      "text/plain": [
       "plot without title"
      ]
     },
     "metadata": {},
     "output_type": "display_data"
    }
   ],
   "source": [
    "# Code and explaination for loan_df %>%\n",
    "loan_df %>%\n",
    "group_by(Education) %>%\n",
    "tally() %>%\n",
    "ggplot(aes(x=\"\", y=n, fill=Education)) + geom_bar(stat='identity',width=1)+coord_polar(\"y\", start=0)\n",
    "\n"
   ]
  },
  {
   "cell_type": "code",
   "execution_count": 46,
   "id": "6243cbb5",
   "metadata": {
    "scrolled": true
   },
   "outputs": [
    {
     "data": {
      "image/png": "[encoded data removed]",
      "text/plain": [
       "plot without title"
      ]
     },
     "metadata": {},
     "output_type": "display_data"
    }
   ],
   "source": [
    "dat <- data.frame(Education = factor(rep(c(\"A\",\"B\"), each = 615)), CoapplicantIncome = c(rnorm(615),rnorm(615)))\n",
    "ggplot(dat, aes(x = CoapplicantIncome)) + geom_histogram(aes(y =..density..),binwidth=.8, colour =\"black\",fill=\"white\")+geom_density(alpha=.2,fill=\"#FF6666\")"
   ]
  },
  {
   "cell_type": "code",
   "execution_count": null,
   "id": "68324555",
   "metadata": {},
   "outputs": [],
   "source": []
  }
 ],
 "metadata": {
  "kernelspec": {
   "display_name": "R",
   "language": "R",
   "name": "ir"
  },
  "language_info": {
   "codemirror_mode": "r",
   "file_extension": ".r",
   "mimetype": "text/x-r-source",
   "name": "R",
   "pygments_lexer": "r",
   "version": "3.6.1"
  }
 },
 "nbformat": 4,
 "nbformat_minor": 5
}
